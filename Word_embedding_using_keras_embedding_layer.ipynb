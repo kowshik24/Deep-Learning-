{
  "nbformat": 4,
  "nbformat_minor": 0,
  "metadata": {
    "colab": {
      "provenance": []
    },
    "kernelspec": {
      "name": "python3",
      "display_name": "Python 3"
    },
    "language_info": {
      "name": "python"
    },
    "gpuClass": "standard"
  },
  "cells": [
    {
      "cell_type": "code",
      "execution_count": 1,
      "metadata": {
        "id": "zxhwkvJ2bahg"
      },
      "outputs": [],
      "source": [
        "import numpy as np\n",
        "from tensorflow.keras.preprocessing.text import one_hot\n",
        "from tensorflow.keras.preprocessing.sequence import pad_sequences\n",
        "from tensorflow.keras.models import Sequential\n",
        "from tensorflow.keras.layers import Dense\n",
        "from tensorflow.keras.layers import Flatten,Embedding"
      ]
    },
    {
      "cell_type": "code",
      "source": [
        "reviews = ['nice food',\n",
        "           'amazing restaurant',\n",
        "           'too good',\n",
        "           'just loved it!',\n",
        "           'will go again',\n",
        "           'horrible food',\n",
        "           'never go there',\n",
        "           'poor service',\n",
        "           'poor quality',\n",
        "           'needs improvement']\n",
        "sentiment = np.array([1,1,1,1,1,0,0,0,0,0])"
      ],
      "metadata": {
        "id": "mbYPpOOab91P"
      },
      "execution_count": 2,
      "outputs": []
    },
    {
      "cell_type": "code",
      "source": [
        "one_hot('amazing restaurant',30)"
      ],
      "metadata": {
        "colab": {
          "base_uri": "https://localhost:8080/"
        },
        "id": "V4rAkt7Nci36",
        "outputId": "d85050d8-60fe-4d24-e37e-73da95a14474"
      },
      "execution_count": 3,
      "outputs": [
        {
          "output_type": "execute_result",
          "data": {
            "text/plain": [
              "[27, 27]"
            ]
          },
          "metadata": {},
          "execution_count": 3
        }
      ]
    },
    {
      "cell_type": "code",
      "source": [
        "vocab_size = 30\n",
        "encoded_reviews = [one_hot(d,vocab_size) for d in reviews]\n",
        "encoded_reviews"
      ],
      "metadata": {
        "colab": {
          "base_uri": "https://localhost:8080/"
        },
        "id": "rnyySeLJcx6Z",
        "outputId": "79287dd9-9460-4269-d3c9-ab64e4172d75"
      },
      "execution_count": 4,
      "outputs": [
        {
          "output_type": "execute_result",
          "data": {
            "text/plain": [
              "[[2, 17],\n",
              " [27, 27],\n",
              " [3, 26],\n",
              " [5, 4, 26],\n",
              " [11, 1, 16],\n",
              " [2, 17],\n",
              " [1, 1, 24],\n",
              " [3, 4],\n",
              " [3, 24],\n",
              " [22, 19]]"
            ]
          },
          "metadata": {},
          "execution_count": 4
        }
      ]
    },
    {
      "cell_type": "markdown",
      "source": [
        "* need some padding cause max lenght is 3 so rest of the need padding"
      ],
      "metadata": {
        "id": "ljCW57uCdlu9"
      }
    },
    {
      "cell_type": "code",
      "source": [
        "max_length = 3\n",
        "\n",
        "padded_reviews = pad_sequences(encoded_reviews,maxlen=max_length,padding='post')\n",
        "padded_reviews"
      ],
      "metadata": {
        "colab": {
          "base_uri": "https://localhost:8080/"
        },
        "id": "HQdS9JO3deAi",
        "outputId": "220a7f02-f5e7-4da2-8581-bda02367348e"
      },
      "execution_count": 5,
      "outputs": [
        {
          "output_type": "execute_result",
          "data": {
            "text/plain": [
              "array([[ 2, 17,  0],\n",
              "       [27, 27,  0],\n",
              "       [ 3, 26,  0],\n",
              "       [ 5,  4, 26],\n",
              "       [11,  1, 16],\n",
              "       [ 2, 17,  0],\n",
              "       [ 1,  1, 24],\n",
              "       [ 3,  4,  0],\n",
              "       [ 3, 24,  0],\n",
              "       [22, 19,  0]], dtype=int32)"
            ]
          },
          "metadata": {},
          "execution_count": 5
        }
      ]
    },
    {
      "cell_type": "code",
      "source": [
        "embeded_vector_size = 4\n",
        "\n",
        "model = Sequential()\n",
        "model.add(Embedding(vocab_size, embeded_vector_size, input_length=max_length, name='embedding'))\n",
        "model.add(Flatten())\n",
        "model.add(Dense(1,activation='sigmoid'))"
      ],
      "metadata": {
        "id": "s1zKNYsheQsy"
      },
      "execution_count": 14,
      "outputs": []
    },
    {
      "cell_type": "code",
      "source": [
        "X = padded_reviews\n",
        "y = sentiment"
      ],
      "metadata": {
        "id": "yCe1SkEafXhh"
      },
      "execution_count": 15,
      "outputs": []
    },
    {
      "cell_type": "code",
      "source": [
        "model.compile(optimizer='adam',loss='binary_crossentropy',metrics=['accuracy'])"
      ],
      "metadata": {
        "id": "f_rdaoBUf5T5"
      },
      "execution_count": 16,
      "outputs": []
    },
    {
      "cell_type": "code",
      "source": [
        "model.summary()"
      ],
      "metadata": {
        "colab": {
          "base_uri": "https://localhost:8080/"
        },
        "id": "5IyELoWQgE35",
        "outputId": "8890fcd4-5c93-4554-bf39-55a0163ac898"
      },
      "execution_count": 17,
      "outputs": [
        {
          "output_type": "stream",
          "name": "stdout",
          "text": [
            "Model: \"sequential_4\"\n",
            "_________________________________________________________________\n",
            " Layer (type)                Output Shape              Param #   \n",
            "=================================================================\n",
            " embedding (Embedding)       (None, 3, 4)              120       \n",
            "                                                                 \n",
            " flatten_1 (Flatten)         (None, 12)                0         \n",
            "                                                                 \n",
            " dense_1 (Dense)             (None, 1)                 13        \n",
            "                                                                 \n",
            "=================================================================\n",
            "Total params: 133\n",
            "Trainable params: 133\n",
            "Non-trainable params: 0\n",
            "_________________________________________________________________\n"
          ]
        }
      ]
    },
    {
      "cell_type": "code",
      "source": [
        "model.fit(X,y,epochs=50,verbose=0)"
      ],
      "metadata": {
        "colab": {
          "base_uri": "https://localhost:8080/"
        },
        "id": "5Dg-xZqugQtp",
        "outputId": "880a6726-1e31-4eda-8dcd-4ed7e17d392e"
      },
      "execution_count": 18,
      "outputs": [
        {
          "output_type": "execute_result",
          "data": {
            "text/plain": [
              "<keras.callbacks.History at 0x7f3fc8b0ccd0>"
            ]
          },
          "metadata": {},
          "execution_count": 18
        }
      ]
    },
    {
      "cell_type": "code",
      "source": [
        "loss , accuracy = model.evaluate(X,y)\n",
        "accuracy"
      ],
      "metadata": {
        "colab": {
          "base_uri": "https://localhost:8080/"
        },
        "id": "EKGLGzSegjYp",
        "outputId": "9c7f1791-f4f2-4da3-90da-0180f738f335"
      },
      "execution_count": 19,
      "outputs": [
        {
          "output_type": "stream",
          "name": "stdout",
          "text": [
            "1/1 [==============================] - 0s 181ms/step - loss: 0.6367 - accuracy: 0.8000\n"
          ]
        },
        {
          "output_type": "execute_result",
          "data": {
            "text/plain": [
              "0.800000011920929"
            ]
          },
          "metadata": {},
          "execution_count": 19
        }
      ]
    },
    {
      "cell_type": "code",
      "source": [
        "weights = model.get_layer('embedding').get_weights()[0]\n",
        "weights"
      ],
      "metadata": {
        "colab": {
          "base_uri": "https://localhost:8080/"
        },
        "id": "Sd-yp1ixgo4Q",
        "outputId": "1164298e-0e7b-40e1-ef20-0e72257d169e"
      },
      "execution_count": 21,
      "outputs": [
        {
          "output_type": "execute_result",
          "data": {
            "text/plain": [
              "array([[-0.0314142 , -0.06493254, -0.09706067, -0.07242422],\n",
              "       [ 0.07028067, -0.00894138, -0.04103758, -0.03243817],\n",
              "       [-0.02880857,  0.05978336,  0.00173136, -0.02060972],\n",
              "       [ 0.07652824, -0.03864245, -0.02338296, -0.06870939],\n",
              "       [ 0.03593595, -0.0434747 ,  0.00350312, -0.01341594],\n",
              "       [-0.0145924 ,  0.0876888 ,  0.07066885,  0.09504179],\n",
              "       [-0.02577316, -0.04372619,  0.00270408, -0.04185338],\n",
              "       [ 0.02973056,  0.01609527,  0.00668732,  0.00611676],\n",
              "       [ 0.02118429,  0.03436064, -0.04781644, -0.03411738],\n",
              "       [-0.01425415, -0.03154204,  0.04329867,  0.01399295],\n",
              "       [ 0.00653674, -0.00736402,  0.04275322, -0.02391659],\n",
              "       [-0.01343706,  0.07420679,  0.01538229,  0.00585263],\n",
              "       [ 0.02675606,  0.03737288,  0.00606962, -0.0258383 ],\n",
              "       [-0.02730844,  0.00063884,  0.02533522,  0.02656407],\n",
              "       [-0.03734788, -0.04574281, -0.01447355,  0.01092777],\n",
              "       [-0.01251636, -0.04405355,  0.01587956,  0.02618636],\n",
              "       [ 0.04999624,  0.05799604,  0.03878304,  0.0352905 ],\n",
              "       [-0.02699443,  0.03593423,  0.0032212 , -0.0278348 ],\n",
              "       [-0.04253709, -0.03177552, -0.00474613, -0.0225256 ],\n",
              "       [ 0.06791665, -0.09737597, -0.06295841,  0.00170056],\n",
              "       [ 0.04121547,  0.02025105,  0.02205339, -0.02095931],\n",
              "       [-0.04251052, -0.02008115,  0.00719138,  0.02304756],\n",
              "       [ 0.04081897, -0.03698228, -0.09478705, -0.00621772],\n",
              "       [ 0.03615778,  0.00233855, -0.02950199, -0.0189302 ],\n",
              "       [ 0.0937261 , -0.05615296, -0.04433164, -0.07736164],\n",
              "       [-0.00244666, -0.02863499,  0.03069298, -0.04844288],\n",
              "       [-0.07297602,  0.08548032,  0.03271927,  0.03390277],\n",
              "       [-0.08742663,  0.03401563,  0.04934322,  0.02689881],\n",
              "       [ 0.02476113, -0.042209  , -0.03145565, -0.02287428],\n",
              "       [ 0.00930772, -0.01154636,  0.03035735,  0.04786699]],\n",
              "      dtype=float32)"
            ]
          },
          "metadata": {},
          "execution_count": 21
        }
      ]
    },
    {
      "cell_type": "code",
      "source": [
        "len(weights)"
      ],
      "metadata": {
        "colab": {
          "base_uri": "https://localhost:8080/"
        },
        "id": "Jh40pKznhCbA",
        "outputId": "71c8e883-a9f3-439e-a68c-ac404a9a96d9"
      },
      "execution_count": 22,
      "outputs": [
        {
          "output_type": "execute_result",
          "data": {
            "text/plain": [
              "30"
            ]
          },
          "metadata": {},
          "execution_count": 22
        }
      ]
    },
    {
      "cell_type": "code",
      "source": [
        "weights[2]"
      ],
      "metadata": {
        "colab": {
          "base_uri": "https://localhost:8080/"
        },
        "id": "H86r3I74k-qP",
        "outputId": "2620140d-f4a0-4ff9-99ae-0fe4528d3f1d"
      },
      "execution_count": 23,
      "outputs": [
        {
          "output_type": "execute_result",
          "data": {
            "text/plain": [
              "array([-0.02880857,  0.05978336,  0.00173136, -0.02060972], dtype=float32)"
            ]
          },
          "metadata": {},
          "execution_count": 23
        }
      ]
    },
    {
      "cell_type": "code",
      "source": [
        "weights[27]"
      ],
      "metadata": {
        "colab": {
          "base_uri": "https://localhost:8080/"
        },
        "id": "oxDbCOU_m0ZX",
        "outputId": "699e51df-04f8-405a-8ab8-a1b43938054a"
      },
      "execution_count": 24,
      "outputs": [
        {
          "output_type": "execute_result",
          "data": {
            "text/plain": [
              "array([-0.08742663,  0.03401563,  0.04934322,  0.02689881], dtype=float32)"
            ]
          },
          "metadata": {},
          "execution_count": 24
        }
      ]
    },
    {
      "cell_type": "code",
      "source": [
        "from numpy.linalg import norm\n",
        "cosine = np.dot(weights[2],weights[27])/(norm(weights[2])*norm(weights[27]))\n",
        "cosine"
      ],
      "metadata": {
        "colab": {
          "base_uri": "https://localhost:8080/"
        },
        "id": "9QXVx8ntm1Vn",
        "outputId": "5f38313f-1cba-4205-df26-f5876b5b034a"
      },
      "execution_count": 26,
      "outputs": [
        {
          "output_type": "execute_result",
          "data": {
            "text/plain": [
              "0.5371698"
            ]
          },
          "metadata": {},
          "execution_count": 26
        }
      ]
    },
    {
      "cell_type": "code",
      "source": [],
      "metadata": {
        "id": "tvkBsx7bnrt_"
      },
      "execution_count": null,
      "outputs": []
    }
  ]
}