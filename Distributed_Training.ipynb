{
  "nbformat": 4,
  "nbformat_minor": 0,
  "metadata": {
    "colab": {
      "provenance": []
    },
    "kernelspec": {
      "name": "python3",
      "display_name": "Python 3"
    },
    "language_info": {
      "name": "python"
    },
    "accelerator": "GPU",
    "gpuClass": "standard"
  },
  "cells": [
    {
      "cell_type": "code",
      "execution_count": 1,
      "metadata": {
        "id": "omfMxsYTbq46"
      },
      "outputs": [],
      "source": [
        "import tensorflow as tf\n",
        "from tensorflow import keras\n",
        "import numpy as np"
      ]
    },
    {
      "cell_type": "markdown",
      "source": [
        "# Load the DataSet"
      ],
      "metadata": {
        "id": "pAlqvZMub2B9"
      }
    },
    {
      "cell_type": "code",
      "source": [
        "(X_train,y_train), (X_test,y_test) = tf.keras.datasets.cifar10.load_data()"
      ],
      "metadata": {
        "colab": {
          "base_uri": "https://localhost:8080/"
        },
        "id": "RTjWWFALb1JW",
        "outputId": "65ebc9db-51f1-4dca-d3b6-4f5528483d1a"
      },
      "execution_count": 2,
      "outputs": [
        {
          "output_type": "stream",
          "name": "stdout",
          "text": [
            "Downloading data from https://www.cs.toronto.edu/~kriz/cifar-10-python.tar.gz\n",
            "170498071/170498071 [==============================] - 6s 0us/step\n"
          ]
        }
      ]
    },
    {
      "cell_type": "code",
      "source": [
        "tf.config.experimental.list_physical_devices()"
      ],
      "metadata": {
        "colab": {
          "base_uri": "https://localhost:8080/"
        },
        "id": "BJfBxxmYcNrj",
        "outputId": "22040a60-0078-4c12-c878-b26c179f6ac4"
      },
      "execution_count": 3,
      "outputs": [
        {
          "output_type": "execute_result",
          "data": {
            "text/plain": [
              "[PhysicalDevice(name='/physical_device:CPU:0', device_type='CPU'),\n",
              " PhysicalDevice(name='/physical_device:GPU:0', device_type='GPU')]"
            ]
          },
          "metadata": {},
          "execution_count": 3
        }
      ]
    },
    {
      "cell_type": "code",
      "source": [
        "X_train.shape"
      ],
      "metadata": {
        "colab": {
          "base_uri": "https://localhost:8080/"
        },
        "id": "nShUeqhmcWZ8",
        "outputId": "ce13b879-5276-457f-bb34-599c7bd0ea25"
      },
      "execution_count": 4,
      "outputs": [
        {
          "output_type": "execute_result",
          "data": {
            "text/plain": [
              "(50000, 32, 32, 3)"
            ]
          },
          "metadata": {},
          "execution_count": 4
        }
      ]
    },
    {
      "cell_type": "code",
      "source": [
        "!ls"
      ],
      "metadata": {
        "colab": {
          "base_uri": "https://localhost:8080/"
        },
        "id": "RrTVilhIcaLz",
        "outputId": "657effa1-65f7-4a86-eb6b-028295c8c836"
      },
      "execution_count": 5,
      "outputs": [
        {
          "output_type": "stream",
          "name": "stdout",
          "text": [
            "sample_data\n"
          ]
        }
      ]
    },
    {
      "cell_type": "code",
      "source": [
        "%cd sample_data"
      ],
      "metadata": {
        "colab": {
          "base_uri": "https://localhost:8080/"
        },
        "id": "iotu6qz3cd_s",
        "outputId": "d7799a79-23f6-460f-8284-770a17c6a1e5"
      },
      "execution_count": 7,
      "outputs": [
        {
          "output_type": "stream",
          "name": "stdout",
          "text": [
            "/content/sample_data\n"
          ]
        }
      ]
    },
    {
      "cell_type": "code",
      "source": [
        "!dir"
      ],
      "metadata": {
        "colab": {
          "base_uri": "https://localhost:8080/"
        },
        "id": "Dl88s7dTciLr",
        "outputId": "11e491fb-09c4-4950-c810-50bcdc321541"
      },
      "execution_count": 9,
      "outputs": [
        {
          "output_type": "stream",
          "name": "stdout",
          "text": [
            "anscombe.json\t\t      mnist_test.csv\n",
            "california_housing_test.csv   mnist_train_small.csv\n",
            "california_housing_train.csv  README.md\n"
          ]
        }
      ]
    },
    {
      "cell_type": "code",
      "source": [
        "classes = [\"airplane\",\"automobile\",\"bird\",\"cat\",\"deer\",\"dog\",\"frog\",\"horse\",\"ship\",\"truck\"]"
      ],
      "metadata": {
        "id": "c3mtA0Qtckhz"
      },
      "execution_count": 10,
      "outputs": []
    },
    {
      "cell_type": "code",
      "source": [
        "X_train_scaled = X_train / 255\n",
        "X_test_scaled = X_test / 255"
      ],
      "metadata": {
        "id": "krGUH1L6c8Ms"
      },
      "execution_count": 11,
      "outputs": []
    },
    {
      "cell_type": "code",
      "source": [
        "y_train_categorical = keras.utils.to_categorical(\n",
        "    y_train, num_classes=10, dtype='float32'\n",
        ")\n",
        "y_test_categorical = keras.utils.to_categorical(\n",
        "    y_test, num_classes=10, dtype='float32'\n",
        ")"
      ],
      "metadata": {
        "id": "qfn6-tsHc-dz"
      },
      "execution_count": 12,
      "outputs": []
    },
    {
      "cell_type": "code",
      "source": [
        "def get_model():\n",
        "    model = keras.Sequential([\n",
        "            keras.layers.Flatten(input_shape=(32,32,3)),\n",
        "            keras.layers.Dense(3000, activation='relu'),\n",
        "            keras.layers.Dense(1000, activation='relu'),\n",
        "            keras.layers.Dense(10, activation='sigmoid')    \n",
        "        ])\n",
        "\n",
        "    model.compile(optimizer='SGD',\n",
        "                  loss='categorical_crossentropy',\n",
        "                  metrics=['accuracy'])\n",
        "    return model"
      ],
      "metadata": {
        "id": "KUVtvzHidAEs"
      },
      "execution_count": 13,
      "outputs": []
    },
    {
      "cell_type": "code",
      "source": [
        "train_tf_dataset = tf.data.Dataset.from_tensor_slices((X_train_scaled, y_train_categorical))\n",
        "test_tf_dataset = tf.data.Dataset.from_tensor_slices((X_test_scaled, y_test_categorical))"
      ],
      "metadata": {
        "id": "gPlBWhnTdCoD"
      },
      "execution_count": 14,
      "outputs": []
    },
    {
      "cell_type": "code",
      "source": [
        "strategy = tf.distribute.MirroredStrategy()"
      ],
      "metadata": {
        "id": "LMy1vsKvdEk0"
      },
      "execution_count": 15,
      "outputs": []
    },
    {
      "cell_type": "code",
      "source": [
        "strategy.num_replicas_in_sync"
      ],
      "metadata": {
        "colab": {
          "base_uri": "https://localhost:8080/"
        },
        "id": "8OwxP2q-dFv7",
        "outputId": "aefa8c28-938c-4d73-881b-0c5ea1029074"
      },
      "execution_count": 16,
      "outputs": [
        {
          "output_type": "execute_result",
          "data": {
            "text/plain": [
              "1"
            ]
          },
          "metadata": {},
          "execution_count": 16
        }
      ]
    },
    {
      "cell_type": "code",
      "source": [
        "BATCH_SIZE_PER_REPLICA = 1000\n",
        "BATCH_SIZE = BATCH_SIZE_PER_REPLICA * strategy.num_replicas_in_sync\n",
        "\n",
        "\n",
        "train_dataset = train_tf_dataset.batch(BATCH_SIZE).prefetch(tf.data.AUTOTUNE)\n",
        "test_dataset = test_tf_dataset.batch(BATCH_SIZE)"
      ],
      "metadata": {
        "id": "_vwx2WNpdHc1"
      },
      "execution_count": 17,
      "outputs": []
    },
    {
      "cell_type": "code",
      "source": [
        "%%timeit -n1 -r1 \n",
        "with strategy.scope():\n",
        "    gpu_model = get_model()\n",
        "    gpu_model.fit(train_dataset, epochs=50)"
      ],
      "metadata": {
        "colab": {
          "base_uri": "https://localhost:8080/"
        },
        "id": "IjPXtrpOdR4D",
        "outputId": "e671ece6-df24-4354-ab6e-272b2093820d"
      },
      "execution_count": 18,
      "outputs": [
        {
          "output_type": "stream",
          "name": "stdout",
          "text": [
            "Epoch 1/50\n",
            "50/50 [==============================] - 4s 20ms/step - loss: 2.1370 - accuracy: 0.2461\n",
            "Epoch 2/50\n",
            "50/50 [==============================] - 1s 20ms/step - loss: 1.9720 - accuracy: 0.3192\n",
            "Epoch 3/50\n",
            "50/50 [==============================] - 1s 21ms/step - loss: 1.9010 - accuracy: 0.3444\n",
            "Epoch 4/50\n",
            "50/50 [==============================] - 1s 19ms/step - loss: 1.8575 - accuracy: 0.3601\n",
            "Epoch 5/50\n",
            "50/50 [==============================] - 1s 19ms/step - loss: 1.8267 - accuracy: 0.3709\n",
            "Epoch 6/50\n",
            "50/50 [==============================] - 1s 20ms/step - loss: 1.8030 - accuracy: 0.3794\n",
            "Epoch 7/50\n",
            "50/50 [==============================] - 1s 20ms/step - loss: 1.7835 - accuracy: 0.3859\n",
            "Epoch 8/50\n",
            "50/50 [==============================] - 1s 21ms/step - loss: 1.7669 - accuracy: 0.3916\n",
            "Epoch 9/50\n",
            "50/50 [==============================] - 1s 21ms/step - loss: 1.7522 - accuracy: 0.3968\n",
            "Epoch 10/50\n",
            "50/50 [==============================] - 1s 19ms/step - loss: 1.7389 - accuracy: 0.4008\n",
            "Epoch 11/50\n",
            "50/50 [==============================] - 1s 21ms/step - loss: 1.7268 - accuracy: 0.4058\n",
            "Epoch 12/50\n",
            "50/50 [==============================] - 1s 20ms/step - loss: 1.7156 - accuracy: 0.4097\n",
            "Epoch 13/50\n",
            "50/50 [==============================] - 1s 20ms/step - loss: 1.7053 - accuracy: 0.4142\n",
            "Epoch 14/50\n",
            "50/50 [==============================] - 1s 21ms/step - loss: 1.6955 - accuracy: 0.4174\n",
            "Epoch 15/50\n",
            "50/50 [==============================] - 1s 19ms/step - loss: 1.6863 - accuracy: 0.4200\n",
            "Epoch 16/50\n",
            "50/50 [==============================] - 1s 20ms/step - loss: 1.6774 - accuracy: 0.4235\n",
            "Epoch 17/50\n",
            "50/50 [==============================] - 1s 20ms/step - loss: 1.6690 - accuracy: 0.4263\n",
            "Epoch 18/50\n",
            "50/50 [==============================] - 1s 21ms/step - loss: 1.6609 - accuracy: 0.4291\n",
            "Epoch 19/50\n",
            "50/50 [==============================] - 1s 19ms/step - loss: 1.6531 - accuracy: 0.4316\n",
            "Epoch 20/50\n",
            "50/50 [==============================] - 1s 20ms/step - loss: 1.6456 - accuracy: 0.4339\n",
            "Epoch 21/50\n",
            "50/50 [==============================] - 1s 21ms/step - loss: 1.6384 - accuracy: 0.4360\n",
            "Epoch 22/50\n",
            "50/50 [==============================] - 1s 19ms/step - loss: 1.6314 - accuracy: 0.4389\n",
            "Epoch 23/50\n",
            "50/50 [==============================] - 1s 21ms/step - loss: 1.6247 - accuracy: 0.4410\n",
            "Epoch 24/50\n",
            "50/50 [==============================] - 1s 19ms/step - loss: 1.6182 - accuracy: 0.4434\n",
            "Epoch 25/50\n",
            "50/50 [==============================] - 1s 21ms/step - loss: 1.6118 - accuracy: 0.4452\n",
            "Epoch 26/50\n",
            "50/50 [==============================] - 1s 20ms/step - loss: 1.6057 - accuracy: 0.4468\n",
            "Epoch 27/50\n",
            "50/50 [==============================] - 1s 21ms/step - loss: 1.5998 - accuracy: 0.4485\n",
            "Epoch 28/50\n",
            "50/50 [==============================] - 1s 19ms/step - loss: 1.5940 - accuracy: 0.4508\n",
            "Epoch 29/50\n",
            "50/50 [==============================] - 1s 21ms/step - loss: 1.5884 - accuracy: 0.4524\n",
            "Epoch 30/50\n",
            "50/50 [==============================] - 1s 19ms/step - loss: 1.5831 - accuracy: 0.4541\n",
            "Epoch 31/50\n",
            "50/50 [==============================] - 1s 26ms/step - loss: 1.5778 - accuracy: 0.4559\n",
            "Epoch 32/50\n",
            "50/50 [==============================] - 1s 23ms/step - loss: 1.5728 - accuracy: 0.4573\n",
            "Epoch 33/50\n",
            "50/50 [==============================] - 1s 19ms/step - loss: 1.5679 - accuracy: 0.4596\n",
            "Epoch 34/50\n",
            "50/50 [==============================] - 1s 21ms/step - loss: 1.5631 - accuracy: 0.4613\n",
            "Epoch 35/50\n",
            "50/50 [==============================] - 1s 22ms/step - loss: 1.5584 - accuracy: 0.4624\n",
            "Epoch 36/50\n",
            "50/50 [==============================] - 1s 19ms/step - loss: 1.5539 - accuracy: 0.4639\n",
            "Epoch 37/50\n",
            "50/50 [==============================] - 1s 21ms/step - loss: 1.5496 - accuracy: 0.4655\n",
            "Epoch 38/50\n",
            "50/50 [==============================] - 1s 19ms/step - loss: 1.5453 - accuracy: 0.4670\n",
            "Epoch 39/50\n",
            "50/50 [==============================] - 1s 20ms/step - loss: 1.5410 - accuracy: 0.4682\n",
            "Epoch 40/50\n",
            "50/50 [==============================] - 1s 19ms/step - loss: 1.5369 - accuracy: 0.4692\n",
            "Epoch 41/50\n",
            "50/50 [==============================] - 1s 20ms/step - loss: 1.5329 - accuracy: 0.4706\n",
            "Epoch 42/50\n",
            "50/50 [==============================] - 1s 20ms/step - loss: 1.5289 - accuracy: 0.4724\n",
            "Epoch 43/50\n",
            "50/50 [==============================] - 1s 21ms/step - loss: 1.5250 - accuracy: 0.4733\n",
            "Epoch 44/50\n",
            "50/50 [==============================] - 1s 19ms/step - loss: 1.5211 - accuracy: 0.4745\n",
            "Epoch 45/50\n",
            "50/50 [==============================] - 1s 20ms/step - loss: 1.5173 - accuracy: 0.4756\n",
            "Epoch 46/50\n",
            "50/50 [==============================] - 1s 21ms/step - loss: 1.5136 - accuracy: 0.4771\n",
            "Epoch 47/50\n",
            "50/50 [==============================] - 1s 20ms/step - loss: 1.5098 - accuracy: 0.4787\n",
            "Epoch 48/50\n",
            "50/50 [==============================] - 1s 21ms/step - loss: 1.5062 - accuracy: 0.4797\n",
            "Epoch 49/50\n",
            "50/50 [==============================] - 1s 19ms/step - loss: 1.5026 - accuracy: 0.4811\n",
            "Epoch 50/50\n",
            "50/50 [==============================] - 1s 21ms/step - loss: 1.4988 - accuracy: 0.4826\n",
            "1min 32s ± 0 ns per loop (mean ± std. dev. of 1 run, 1 loop each)\n"
          ]
        }
      ]
    },
    {
      "cell_type": "code",
      "source": [],
      "metadata": {
        "id": "-QjJWzLYdUJz"
      },
      "execution_count": null,
      "outputs": []
    }
  ]
}