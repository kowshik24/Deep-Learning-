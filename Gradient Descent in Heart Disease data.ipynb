{
 "cells": [
  {
   "cell_type": "markdown",
   "id": "73a6338d",
   "metadata": {},
   "source": [
    "# Implement Gradient Descent For Neural Network (or Logistic Regression)\n",
    "#### Predicting if a person have heart disease or not  using logistic regression\n",
    "Above is a binary logistic regression problem as there are only two possible outcomes (i.e. if person have disease or he/she doesn't).\n",
    "\n",
    "DataSource: https://www.kaggle.com/datasets/johnsmith88/heart-disease-dataset"
   ]
  },
  {
   "cell_type": "code",
   "execution_count": 1,
   "id": "017deafb",
   "metadata": {},
   "outputs": [],
   "source": [
    "import pandas as pd\n",
    "import numpy as np\n",
    "import matplotlib.pyplot as plt\n",
    "import tensorflow as tf\n",
    "from tensorflow import keras\n",
    "%matplotlib inline\n",
    "import seaborn as sns"
   ]
  },
  {
   "cell_type": "code",
   "execution_count": 2,
   "id": "fdbb2c1f",
   "metadata": {},
   "outputs": [
    {
     "data": {
      "text/html": [
       "<div>\n",
       "<style scoped>\n",
       "    .dataframe tbody tr th:only-of-type {\n",
       "        vertical-align: middle;\n",
       "    }\n",
       "\n",
       "    .dataframe tbody tr th {\n",
       "        vertical-align: top;\n",
       "    }\n",
       "\n",
       "    .dataframe thead th {\n",
       "        text-align: right;\n",
       "    }\n",
       "</style>\n",
       "<table border=\"1\" class=\"dataframe\">\n",
       "  <thead>\n",
       "    <tr style=\"text-align: right;\">\n",
       "      <th></th>\n",
       "      <th>age</th>\n",
       "      <th>sex</th>\n",
       "      <th>cp</th>\n",
       "      <th>trestbps</th>\n",
       "      <th>chol</th>\n",
       "      <th>fbs</th>\n",
       "      <th>restecg</th>\n",
       "      <th>thalach</th>\n",
       "      <th>exang</th>\n",
       "      <th>oldpeak</th>\n",
       "      <th>slope</th>\n",
       "      <th>ca</th>\n",
       "      <th>thal</th>\n",
       "      <th>target</th>\n",
       "    </tr>\n",
       "  </thead>\n",
       "  <tbody>\n",
       "    <tr>\n",
       "      <th>0</th>\n",
       "      <td>52</td>\n",
       "      <td>1</td>\n",
       "      <td>0</td>\n",
       "      <td>125</td>\n",
       "      <td>212</td>\n",
       "      <td>0</td>\n",
       "      <td>1</td>\n",
       "      <td>168</td>\n",
       "      <td>0</td>\n",
       "      <td>1.0</td>\n",
       "      <td>2</td>\n",
       "      <td>2</td>\n",
       "      <td>3</td>\n",
       "      <td>0</td>\n",
       "    </tr>\n",
       "    <tr>\n",
       "      <th>1</th>\n",
       "      <td>53</td>\n",
       "      <td>1</td>\n",
       "      <td>0</td>\n",
       "      <td>140</td>\n",
       "      <td>203</td>\n",
       "      <td>1</td>\n",
       "      <td>0</td>\n",
       "      <td>155</td>\n",
       "      <td>1</td>\n",
       "      <td>3.1</td>\n",
       "      <td>0</td>\n",
       "      <td>0</td>\n",
       "      <td>3</td>\n",
       "      <td>0</td>\n",
       "    </tr>\n",
       "    <tr>\n",
       "      <th>2</th>\n",
       "      <td>70</td>\n",
       "      <td>1</td>\n",
       "      <td>0</td>\n",
       "      <td>145</td>\n",
       "      <td>174</td>\n",
       "      <td>0</td>\n",
       "      <td>1</td>\n",
       "      <td>125</td>\n",
       "      <td>1</td>\n",
       "      <td>2.6</td>\n",
       "      <td>0</td>\n",
       "      <td>0</td>\n",
       "      <td>3</td>\n",
       "      <td>0</td>\n",
       "    </tr>\n",
       "    <tr>\n",
       "      <th>3</th>\n",
       "      <td>61</td>\n",
       "      <td>1</td>\n",
       "      <td>0</td>\n",
       "      <td>148</td>\n",
       "      <td>203</td>\n",
       "      <td>0</td>\n",
       "      <td>1</td>\n",
       "      <td>161</td>\n",
       "      <td>0</td>\n",
       "      <td>0.0</td>\n",
       "      <td>2</td>\n",
       "      <td>1</td>\n",
       "      <td>3</td>\n",
       "      <td>0</td>\n",
       "    </tr>\n",
       "    <tr>\n",
       "      <th>4</th>\n",
       "      <td>62</td>\n",
       "      <td>0</td>\n",
       "      <td>0</td>\n",
       "      <td>138</td>\n",
       "      <td>294</td>\n",
       "      <td>1</td>\n",
       "      <td>1</td>\n",
       "      <td>106</td>\n",
       "      <td>0</td>\n",
       "      <td>1.9</td>\n",
       "      <td>1</td>\n",
       "      <td>3</td>\n",
       "      <td>2</td>\n",
       "      <td>0</td>\n",
       "    </tr>\n",
       "  </tbody>\n",
       "</table>\n",
       "</div>"
      ],
      "text/plain": [
       "   age  sex  cp  trestbps  chol  fbs  restecg  thalach  exang  oldpeak  slope  \\\n",
       "0   52    1   0       125   212    0        1      168      0      1.0      2   \n",
       "1   53    1   0       140   203    1        0      155      1      3.1      0   \n",
       "2   70    1   0       145   174    0        1      125      1      2.6      0   \n",
       "3   61    1   0       148   203    0        1      161      0      0.0      2   \n",
       "4   62    0   0       138   294    1        1      106      0      1.9      1   \n",
       "\n",
       "   ca  thal  target  \n",
       "0   2     3       0  \n",
       "1   0     3       0  \n",
       "2   0     3       0  \n",
       "3   1     3       0  \n",
       "4   3     2       0  "
      ]
     },
     "execution_count": 2,
     "metadata": {},
     "output_type": "execute_result"
    }
   ],
   "source": [
    "df = pd.read_csv('F:\\AAA Machine Learning\\Kaggle\\heart.csv')\n",
    "df.head()"
   ]
  },
  {
   "cell_type": "markdown",
   "id": "7ce5ec5d",
   "metadata": {},
   "source": [
    "# Preprocessing Data"
   ]
  },
  {
   "cell_type": "markdown",
   "id": "ae438783",
   "metadata": {},
   "source": [
    "### age"
   ]
  },
  {
   "cell_type": "code",
   "execution_count": 3,
   "id": "c87f93ff",
   "metadata": {},
   "outputs": [
    {
     "data": {
      "text/plain": [
       "count    1025.000000\n",
       "mean       54.434146\n",
       "std         9.072290\n",
       "min        29.000000\n",
       "25%        48.000000\n",
       "50%        56.000000\n",
       "75%        61.000000\n",
       "max        77.000000\n",
       "Name: age, dtype: float64"
      ]
     },
     "execution_count": 3,
     "metadata": {},
     "output_type": "execute_result"
    }
   ],
   "source": [
    "df['age'].describe()"
   ]
  },
  {
   "cell_type": "code",
   "execution_count": 4,
   "id": "ba14608d",
   "metadata": {},
   "outputs": [],
   "source": [
    "df['age'] = df['age']/100"
   ]
  },
  {
   "cell_type": "markdown",
   "id": "490001d4",
   "metadata": {},
   "source": [
    "### sex"
   ]
  },
  {
   "cell_type": "code",
   "execution_count": 5,
   "id": "fbb3c3b6",
   "metadata": {},
   "outputs": [
    {
     "data": {
      "text/plain": [
       "1    713\n",
       "0    312\n",
       "Name: sex, dtype: int64"
      ]
     },
     "execution_count": 5,
     "metadata": {},
     "output_type": "execute_result"
    }
   ],
   "source": [
    "df['sex'].value_counts()"
   ]
  },
  {
   "cell_type": "markdown",
   "id": "d31868ff",
   "metadata": {},
   "source": [
    "### cp"
   ]
  },
  {
   "cell_type": "code",
   "execution_count": 6,
   "id": "0ec95827",
   "metadata": {},
   "outputs": [
    {
     "data": {
      "text/plain": [
       "0    497\n",
       "2    284\n",
       "1    167\n",
       "3     77\n",
       "Name: cp, dtype: int64"
      ]
     },
     "execution_count": 6,
     "metadata": {},
     "output_type": "execute_result"
    }
   ],
   "source": [
    "df['cp'].value_counts()"
   ]
  },
  {
   "cell_type": "code",
   "execution_count": 7,
   "id": "524b0627",
   "metadata": {},
   "outputs": [],
   "source": [
    "df = pd.get_dummies(df,columns=['cp'],drop_first=True,dtype=int)"
   ]
  },
  {
   "cell_type": "markdown",
   "id": "9857cd6f",
   "metadata": {},
   "source": [
    "### trestbps"
   ]
  },
  {
   "cell_type": "code",
   "execution_count": 8,
   "id": "8c2406c0",
   "metadata": {},
   "outputs": [
    {
     "data": {
      "text/plain": [
       "count    1025.000000\n",
       "mean      131.611707\n",
       "std        17.516718\n",
       "min        94.000000\n",
       "25%       120.000000\n",
       "50%       130.000000\n",
       "75%       140.000000\n",
       "max       200.000000\n",
       "Name: trestbps, dtype: float64"
      ]
     },
     "execution_count": 8,
     "metadata": {},
     "output_type": "execute_result"
    }
   ],
   "source": [
    "df['trestbps'].describe()"
   ]
  },
  {
   "cell_type": "code",
   "execution_count": 9,
   "id": "62f83cd8",
   "metadata": {},
   "outputs": [],
   "source": [
    "df['trestbps'] = df['trestbps'] / 200"
   ]
  },
  {
   "cell_type": "markdown",
   "id": "80799634",
   "metadata": {},
   "source": [
    "### chol"
   ]
  },
  {
   "cell_type": "code",
   "execution_count": 10,
   "id": "0ce58d01",
   "metadata": {},
   "outputs": [
    {
     "data": {
      "text/plain": [
       "count    1025.00000\n",
       "mean      246.00000\n",
       "std        51.59251\n",
       "min       126.00000\n",
       "25%       211.00000\n",
       "50%       240.00000\n",
       "75%       275.00000\n",
       "max       564.00000\n",
       "Name: chol, dtype: float64"
      ]
     },
     "execution_count": 10,
     "metadata": {},
     "output_type": "execute_result"
    }
   ],
   "source": [
    "df['chol'].describe()"
   ]
  },
  {
   "cell_type": "code",
   "execution_count": 11,
   "id": "e6dafc5f",
   "metadata": {},
   "outputs": [],
   "source": [
    "df['chol'] = df['chol']/500"
   ]
  },
  {
   "cell_type": "markdown",
   "id": "c4ca8542",
   "metadata": {},
   "source": [
    "### fbs"
   ]
  },
  {
   "cell_type": "code",
   "execution_count": 12,
   "id": "8cb98f1c",
   "metadata": {},
   "outputs": [
    {
     "data": {
      "text/plain": [
       "0    872\n",
       "1    153\n",
       "Name: fbs, dtype: int64"
      ]
     },
     "execution_count": 12,
     "metadata": {},
     "output_type": "execute_result"
    }
   ],
   "source": [
    "df['fbs'].value_counts()"
   ]
  },
  {
   "cell_type": "markdown",
   "id": "304d85e2",
   "metadata": {},
   "source": [
    "### restecg"
   ]
  },
  {
   "cell_type": "code",
   "execution_count": 13,
   "id": "4a578a5f",
   "metadata": {},
   "outputs": [
    {
     "data": {
      "text/plain": [
       "count    1025.000000\n",
       "mean        0.529756\n",
       "std         0.527878\n",
       "min         0.000000\n",
       "25%         0.000000\n",
       "50%         1.000000\n",
       "75%         1.000000\n",
       "max         2.000000\n",
       "Name: restecg, dtype: float64"
      ]
     },
     "execution_count": 13,
     "metadata": {},
     "output_type": "execute_result"
    }
   ],
   "source": [
    "df['restecg'].describe()"
   ]
  },
  {
   "cell_type": "code",
   "execution_count": 14,
   "id": "f1d5a5c2",
   "metadata": {},
   "outputs": [],
   "source": [
    "df['restecg'] = np.where(df['restecg']==2,np.mean(df['restecg']),df['restecg'])"
   ]
  },
  {
   "cell_type": "markdown",
   "id": "cab779be",
   "metadata": {},
   "source": [
    "### thalach"
   ]
  },
  {
   "cell_type": "code",
   "execution_count": 15,
   "id": "f2bb855a",
   "metadata": {},
   "outputs": [
    {
     "data": {
      "text/plain": [
       "count    1025.000000\n",
       "mean      149.114146\n",
       "std        23.005724\n",
       "min        71.000000\n",
       "25%       132.000000\n",
       "50%       152.000000\n",
       "75%       166.000000\n",
       "max       202.000000\n",
       "Name: thalach, dtype: float64"
      ]
     },
     "execution_count": 15,
     "metadata": {},
     "output_type": "execute_result"
    }
   ],
   "source": [
    "df['thalach'].describe()"
   ]
  },
  {
   "cell_type": "code",
   "execution_count": 16,
   "id": "6fa12b1d",
   "metadata": {},
   "outputs": [],
   "source": [
    "df['thalach'] = df['thalach'] / 150"
   ]
  },
  {
   "cell_type": "markdown",
   "id": "dce976ee",
   "metadata": {},
   "source": [
    "### exang"
   ]
  },
  {
   "cell_type": "code",
   "execution_count": 17,
   "id": "c26eb597",
   "metadata": {},
   "outputs": [
    {
     "data": {
      "text/plain": [
       "0    680\n",
       "1    345\n",
       "Name: exang, dtype: int64"
      ]
     },
     "execution_count": 17,
     "metadata": {},
     "output_type": "execute_result"
    }
   ],
   "source": [
    "df['exang'].value_counts()"
   ]
  },
  {
   "cell_type": "markdown",
   "id": "21b3cdfc",
   "metadata": {},
   "source": [
    "### oldpeak"
   ]
  },
  {
   "cell_type": "code",
   "execution_count": 18,
   "id": "41155b74",
   "metadata": {},
   "outputs": [
    {
     "data": {
      "text/plain": [
       "count    1025.000000\n",
       "mean        1.071512\n",
       "std         1.175053\n",
       "min         0.000000\n",
       "25%         0.000000\n",
       "50%         0.800000\n",
       "75%         1.800000\n",
       "max         6.200000\n",
       "Name: oldpeak, dtype: float64"
      ]
     },
     "execution_count": 18,
     "metadata": {},
     "output_type": "execute_result"
    }
   ],
   "source": [
    "df['oldpeak'].describe()"
   ]
  },
  {
   "cell_type": "code",
   "execution_count": 19,
   "id": "27264f74",
   "metadata": {},
   "outputs": [],
   "source": [
    "# import scipy.stats\n",
    "# plt.figure(figsize=(20,10))\n",
    "# plt.subplot(1,2,1)\n",
    "# sns.distplot(df['oldpeak'],kde=True,fit = scipy.stats.norm)\n",
    "# plt.title(\"With Out Log Transform\")\n",
    "# plt.subplot(1,2,2)\n",
    "# sns.distplot(np.log(df['oldpeak']),kde=True,fit = scipy.stats.norm)\n",
    "# plt.xlabel('Log Old Peak')\n",
    "# plt.title(\"With Log Transform\")\n",
    "\n",
    "# plt.show()"
   ]
  },
  {
   "cell_type": "markdown",
   "id": "df6821ea",
   "metadata": {},
   "source": [
    "### target"
   ]
  },
  {
   "cell_type": "code",
   "execution_count": 20,
   "id": "ab94e41d",
   "metadata": {},
   "outputs": [
    {
     "data": {
      "text/plain": [
       "1    526\n",
       "0    499\n",
       "Name: target, dtype: int64"
      ]
     },
     "execution_count": 20,
     "metadata": {},
     "output_type": "execute_result"
    }
   ],
   "source": [
    "df['target'].value_counts()"
   ]
  },
  {
   "cell_type": "markdown",
   "id": "312aad97",
   "metadata": {},
   "source": [
    "# Split train and test set"
   ]
  },
  {
   "cell_type": "code",
   "execution_count": 21,
   "id": "1e484fa8",
   "metadata": {},
   "outputs": [],
   "source": [
    "from sklearn.model_selection import train_test_split\n",
    "y = df['target']\n",
    "X = df.drop(['target'],axis=1)\n",
    "X_train,X_test,y_train,y_test = train_test_split(X,y,test_size=0.2,random_state=42)"
   ]
  },
  {
   "cell_type": "code",
   "execution_count": 22,
   "id": "d04f7b7a",
   "metadata": {},
   "outputs": [
    {
     "name": "stdout",
     "output_type": "stream",
     "text": [
      "(820, 15)\n",
      "(205, 15)\n"
     ]
    }
   ],
   "source": [
    "print(X_train.shape)\n",
    "print(X_test.shape)"
   ]
  },
  {
   "cell_type": "code",
   "execution_count": 24,
   "id": "4ebd3414",
   "metadata": {},
   "outputs": [
    {
     "name": "stdout",
     "output_type": "stream",
     "text": [
      "Epoch 1/10\n",
      "26/26 [==============================] - 1s 6ms/step - loss: 5.4236 - accuracy: 0.5159\n",
      "Epoch 2/10\n",
      "26/26 [==============================] - 0s 6ms/step - loss: 5.2718 - accuracy: 0.5159\n",
      "Epoch 3/10\n",
      "26/26 [==============================] - 0s 6ms/step - loss: 5.1200 - accuracy: 0.5159\n",
      "Epoch 4/10\n",
      "26/26 [==============================] - 0s 7ms/step - loss: 4.9697 - accuracy: 0.5159\n",
      "Epoch 5/10\n",
      "26/26 [==============================] - 0s 6ms/step - loss: 4.8198 - accuracy: 0.5159\n",
      "Epoch 6/10\n",
      "26/26 [==============================] - 0s 7ms/step - loss: 4.6703 - accuracy: 0.5159\n",
      "Epoch 7/10\n",
      "26/26 [==============================] - 0s 7ms/step - loss: 4.5201 - accuracy: 0.5159\n",
      "Epoch 8/10\n",
      "26/26 [==============================] - 0s 7ms/step - loss: 4.3697 - accuracy: 0.5159\n",
      "Epoch 9/10\n",
      "26/26 [==============================] - 0s 7ms/step - loss: 4.2199 - accuracy: 0.5159\n",
      "Epoch 10/10\n",
      "26/26 [==============================] - 0s 10ms/step - loss: 4.0692 - accuracy: 0.5159\n"
     ]
    },
    {
     "data": {
      "text/plain": [
       "<keras.callbacks.History at 0x27c62731a30>"
      ]
     },
     "execution_count": 24,
     "metadata": {},
     "output_type": "execute_result"
    }
   ],
   "source": [
    "model = keras.Sequential([\n",
    "    keras.layers.Dense(1, input_shape=(15,), activation='sigmoid', kernel_initializer='ones', bias_initializer='zeros')\n",
    "])\n",
    "\n",
    "model.compile(optimizer='adam',\n",
    "              loss='binary_crossentropy',\n",
    "              metrics=['accuracy'])\n",
    "\n",
    "model.fit(X_train, y_train, epochs=10)\n"
   ]
  },
  {
   "cell_type": "code",
   "execution_count": 64,
   "id": "1222903b",
   "metadata": {},
   "outputs": [
    {
     "name": "stdout",
     "output_type": "stream",
     "text": [
      "7/7 [==============================] - 0s 2ms/step - loss: 0.4267 - accuracy: 0.8195\n"
     ]
    },
    {
     "data": {
      "text/plain": [
       "[0.4267168641090393, 0.8195121884346008]"
      ]
     },
     "execution_count": 64,
     "metadata": {},
     "output_type": "execute_result"
    }
   ],
   "source": [
    "model.evaluate(X_test,y_test)"
   ]
  },
  {
   "cell_type": "code",
   "execution_count": 65,
   "id": "224770ff",
   "metadata": {},
   "outputs": [
    {
     "data": {
      "text/html": [
       "<div>\n",
       "<style scoped>\n",
       "    .dataframe tbody tr th:only-of-type {\n",
       "        vertical-align: middle;\n",
       "    }\n",
       "\n",
       "    .dataframe tbody tr th {\n",
       "        vertical-align: top;\n",
       "    }\n",
       "\n",
       "    .dataframe thead th {\n",
       "        text-align: right;\n",
       "    }\n",
       "</style>\n",
       "<table border=\"1\" class=\"dataframe\">\n",
       "  <thead>\n",
       "    <tr style=\"text-align: right;\">\n",
       "      <th></th>\n",
       "      <th>age</th>\n",
       "      <th>sex</th>\n",
       "      <th>trestbps</th>\n",
       "      <th>chol</th>\n",
       "      <th>fbs</th>\n",
       "      <th>restecg</th>\n",
       "      <th>thalach</th>\n",
       "      <th>exang</th>\n",
       "      <th>oldpeak</th>\n",
       "      <th>slope</th>\n",
       "      <th>ca</th>\n",
       "      <th>thal</th>\n",
       "      <th>cp_1</th>\n",
       "      <th>cp_2</th>\n",
       "      <th>cp_3</th>\n",
       "    </tr>\n",
       "  </thead>\n",
       "  <tbody>\n",
       "    <tr>\n",
       "      <th>527</th>\n",
       "      <td>0.62</td>\n",
       "      <td>0</td>\n",
       "      <td>0.62</td>\n",
       "      <td>0.418</td>\n",
       "      <td>0</td>\n",
       "      <td>1.0</td>\n",
       "      <td>1.086667</td>\n",
       "      <td>0</td>\n",
       "      <td>0.0</td>\n",
       "      <td>2</td>\n",
       "      <td>0</td>\n",
       "      <td>2</td>\n",
       "      <td>0</td>\n",
       "      <td>0</td>\n",
       "      <td>0</td>\n",
       "    </tr>\n",
       "    <tr>\n",
       "      <th>359</th>\n",
       "      <td>0.53</td>\n",
       "      <td>0</td>\n",
       "      <td>0.64</td>\n",
       "      <td>0.432</td>\n",
       "      <td>0</td>\n",
       "      <td>0.0</td>\n",
       "      <td>0.766667</td>\n",
       "      <td>0</td>\n",
       "      <td>0.0</td>\n",
       "      <td>2</td>\n",
       "      <td>0</td>\n",
       "      <td>0</td>\n",
       "      <td>0</td>\n",
       "      <td>1</td>\n",
       "      <td>0</td>\n",
       "    </tr>\n",
       "    <tr>\n",
       "      <th>447</th>\n",
       "      <td>0.55</td>\n",
       "      <td>1</td>\n",
       "      <td>0.80</td>\n",
       "      <td>0.578</td>\n",
       "      <td>0</td>\n",
       "      <td>0.0</td>\n",
       "      <td>0.966667</td>\n",
       "      <td>1</td>\n",
       "      <td>0.8</td>\n",
       "      <td>1</td>\n",
       "      <td>1</td>\n",
       "      <td>3</td>\n",
       "      <td>0</td>\n",
       "      <td>0</td>\n",
       "      <td>0</td>\n",
       "    </tr>\n",
       "    <tr>\n",
       "      <th>31</th>\n",
       "      <td>0.50</td>\n",
       "      <td>0</td>\n",
       "      <td>0.60</td>\n",
       "      <td>0.488</td>\n",
       "      <td>0</td>\n",
       "      <td>1.0</td>\n",
       "      <td>1.080000</td>\n",
       "      <td>0</td>\n",
       "      <td>1.1</td>\n",
       "      <td>2</td>\n",
       "      <td>0</td>\n",
       "      <td>2</td>\n",
       "      <td>1</td>\n",
       "      <td>0</td>\n",
       "      <td>0</td>\n",
       "    </tr>\n",
       "    <tr>\n",
       "      <th>621</th>\n",
       "      <td>0.48</td>\n",
       "      <td>1</td>\n",
       "      <td>0.65</td>\n",
       "      <td>0.512</td>\n",
       "      <td>1</td>\n",
       "      <td>0.0</td>\n",
       "      <td>1.000000</td>\n",
       "      <td>1</td>\n",
       "      <td>0.0</td>\n",
       "      <td>2</td>\n",
       "      <td>2</td>\n",
       "      <td>3</td>\n",
       "      <td>0</td>\n",
       "      <td>0</td>\n",
       "      <td>0</td>\n",
       "    </tr>\n",
       "  </tbody>\n",
       "</table>\n",
       "</div>"
      ],
      "text/plain": [
       "      age  sex  trestbps   chol  fbs  restecg   thalach  exang  oldpeak  \\\n",
       "527  0.62    0      0.62  0.418    0      1.0  1.086667      0      0.0   \n",
       "359  0.53    0      0.64  0.432    0      0.0  0.766667      0      0.0   \n",
       "447  0.55    1      0.80  0.578    0      0.0  0.966667      1      0.8   \n",
       "31   0.50    0      0.60  0.488    0      1.0  1.080000      0      1.1   \n",
       "621  0.48    1      0.65  0.512    1      0.0  1.000000      1      0.0   \n",
       "\n",
       "     slope  ca  thal  cp_1  cp_2  cp_3  \n",
       "527      2   0     2     0     0     0  \n",
       "359      2   0     0     0     1     0  \n",
       "447      1   1     3     0     0     0  \n",
       "31       2   0     2     1     0     0  \n",
       "621      2   2     3     0     0     0  "
      ]
     },
     "execution_count": 65,
     "metadata": {},
     "output_type": "execute_result"
    }
   ],
   "source": [
    "X_test.head()"
   ]
  },
  {
   "cell_type": "code",
   "execution_count": 66,
   "id": "d41f9639",
   "metadata": {},
   "outputs": [
    {
     "name": "stdout",
     "output_type": "stream",
     "text": [
      "7/7 [==============================] - 0s 2ms/step\n"
     ]
    },
    {
     "data": {
      "text/plain": [
       "array([[9.39300179e-01],\n",
       "       [9.95315731e-01],\n",
       "       [3.26115042e-02],\n",
       "       [9.68322039e-01],\n",
       "       [4.12542932e-02],\n",
       "       [7.58630931e-01],\n",
       "       [9.69398674e-03],\n",
       "       [4.68910765e-03],\n",
       "       [8.24636877e-01],\n",
       "       [1.93881914e-02],\n",
       "       [9.74190176e-01],\n",
       "       [6.62504463e-03],\n",
       "       [9.31090355e-01],\n",
       "       [8.16683710e-01],\n",
       "       [6.81881160e-02],\n",
       "       [9.14428234e-01],\n",
       "       [1.01779895e-02],\n",
       "       [9.64008152e-01],\n",
       "       [8.47513914e-01],\n",
       "       [1.34697584e-02],\n",
       "       [7.61544466e-01],\n",
       "       [7.58575425e-02],\n",
       "       [5.97395420e-01],\n",
       "       [7.95095507e-03],\n",
       "       [7.61544466e-01],\n",
       "       [5.88050604e-01],\n",
       "       [9.81856763e-01],\n",
       "       [5.47898173e-01],\n",
       "       [7.45722232e-03],\n",
       "       [8.89633179e-01],\n",
       "       [6.71816289e-01],\n",
       "       [8.70402277e-01],\n",
       "       [4.84958410e-01],\n",
       "       [9.95315731e-01],\n",
       "       [8.27758729e-01],\n",
       "       [7.94207573e-01],\n",
       "       [7.61544466e-01],\n",
       "       [3.98583323e-01],\n",
       "       [6.43455446e-01],\n",
       "       [9.49219584e-01],\n",
       "       [4.68910765e-03],\n",
       "       [5.96002862e-02],\n",
       "       [4.58291858e-01],\n",
       "       [5.97395420e-01],\n",
       "       [9.89835337e-02],\n",
       "       [2.23215343e-03],\n",
       "       [9.01186839e-02],\n",
       "       [3.47597182e-01],\n",
       "       [6.49896562e-01],\n",
       "       [6.05504274e-01],\n",
       "       [7.54123092e-01],\n",
       "       [3.41362529e-03],\n",
       "       [8.17648530e-01],\n",
       "       [1.05383005e-02],\n",
       "       [9.81856763e-01],\n",
       "       [6.43455446e-01],\n",
       "       [1.90851659e-01],\n",
       "       [5.75318374e-03],\n",
       "       [8.20302010e-01],\n",
       "       [9.32284117e-01],\n",
       "       [5.50502539e-01],\n",
       "       [6.52211830e-02],\n",
       "       [7.45722232e-03],\n",
       "       [6.05504274e-01],\n",
       "       [6.38560019e-03],\n",
       "       [1.52592480e-01],\n",
       "       [9.93555546e-01],\n",
       "       [6.15137875e-01],\n",
       "       [2.23215343e-03],\n",
       "       [9.86759186e-01],\n",
       "       [4.79962647e-01],\n",
       "       [7.45722232e-03],\n",
       "       [3.86759073e-01],\n",
       "       [9.28869784e-01],\n",
       "       [6.19535208e-01],\n",
       "       [6.44962549e-01],\n",
       "       [9.69398674e-03],\n",
       "       [9.08505082e-01],\n",
       "       [7.60008395e-01],\n",
       "       [9.22025621e-01],\n",
       "       [1.47615924e-01],\n",
       "       [2.37373367e-01],\n",
       "       [1.01457007e-01],\n",
       "       [1.29432427e-02],\n",
       "       [8.72095585e-01],\n",
       "       [4.01718775e-03],\n",
       "       [9.74190176e-01],\n",
       "       [1.03686526e-01],\n",
       "       [1.47615924e-01],\n",
       "       [8.89633179e-01],\n",
       "       [4.76733506e-01],\n",
       "       [1.34697584e-02],\n",
       "       [7.76532531e-01],\n",
       "       [9.28814709e-01],\n",
       "       [8.12136173e-01],\n",
       "       [5.86946905e-01],\n",
       "       [6.15137875e-01],\n",
       "       [2.41419375e-01],\n",
       "       [2.42575887e-03],\n",
       "       [3.28506343e-02],\n",
       "       [6.79212093e-01],\n",
       "       [1.02370419e-01],\n",
       "       [6.35801554e-01],\n",
       "       [7.21032917e-01],\n",
       "       [6.68739229e-02],\n",
       "       [8.62383664e-01],\n",
       "       [5.75318374e-03],\n",
       "       [7.11864829e-01],\n",
       "       [2.68819302e-01],\n",
       "       [9.72782850e-01],\n",
       "       [8.20302010e-01],\n",
       "       [9.72782850e-01],\n",
       "       [9.80717659e-01],\n",
       "       [4.41090390e-02],\n",
       "       [8.76945198e-01],\n",
       "       [9.67245936e-01],\n",
       "       [7.05580771e-01],\n",
       "       [9.30619538e-01],\n",
       "       [9.47066724e-01],\n",
       "       [1.56927444e-02],\n",
       "       [5.76731026e-01],\n",
       "       [6.09022617e-01],\n",
       "       [5.96119603e-03],\n",
       "       [8.97210911e-02],\n",
       "       [6.15837052e-02],\n",
       "       [7.95095507e-03],\n",
       "       [8.68236959e-01],\n",
       "       [6.22354805e-01],\n",
       "       [4.79962647e-01],\n",
       "       [9.60493028e-01],\n",
       "       [8.70402277e-01],\n",
       "       [2.42575887e-03],\n",
       "       [9.87500966e-01],\n",
       "       [6.79212093e-01],\n",
       "       [2.87899449e-02],\n",
       "       [9.03497875e-01],\n",
       "       [7.23120645e-02],\n",
       "       [6.09022617e-01],\n",
       "       [9.03497875e-01],\n",
       "       [7.05580771e-01],\n",
       "       [5.18184245e-01],\n",
       "       [8.79696429e-01],\n",
       "       [9.80774760e-01],\n",
       "       [4.05075364e-02],\n",
       "       [5.91014087e-01],\n",
       "       [6.69244111e-01],\n",
       "       [7.54123092e-01],\n",
       "       [9.65234995e-01],\n",
       "       [5.37304223e-01],\n",
       "       [5.13451397e-02],\n",
       "       [4.84958410e-01],\n",
       "       [2.23215343e-03],\n",
       "       [8.17976594e-01],\n",
       "       [5.18184245e-01],\n",
       "       [2.05197245e-01],\n",
       "       [5.64520285e-02],\n",
       "       [6.93727672e-01],\n",
       "       [9.60493028e-01],\n",
       "       [1.70165852e-01],\n",
       "       [5.96002862e-02],\n",
       "       [4.58291858e-01],\n",
       "       [9.64558005e-01],\n",
       "       [1.02370419e-01],\n",
       "       [1.02370419e-01],\n",
       "       [6.81728572e-02],\n",
       "       [1.51982069e-01],\n",
       "       [1.92995578e-01],\n",
       "       [4.54200134e-02],\n",
       "       [9.60664749e-02],\n",
       "       [9.65234995e-01],\n",
       "       [3.86759073e-01],\n",
       "       [6.92672789e-01],\n",
       "       [9.13761854e-01],\n",
       "       [1.51486218e-03],\n",
       "       [9.37777698e-01],\n",
       "       [9.95315731e-01],\n",
       "       [9.54335868e-01],\n",
       "       [9.04891524e-04],\n",
       "       [6.35801554e-01],\n",
       "       [9.50681627e-01],\n",
       "       [9.57414031e-01],\n",
       "       [3.64179746e-03],\n",
       "       [9.04464722e-01],\n",
       "       [8.17648530e-01],\n",
       "       [6.37541175e-01],\n",
       "       [9.47066724e-01],\n",
       "       [8.27758729e-01],\n",
       "       [8.20302010e-01],\n",
       "       [7.10154831e-01],\n",
       "       [9.78122234e-01],\n",
       "       [9.80002046e-01],\n",
       "       [7.60008395e-01],\n",
       "       [5.96561015e-01],\n",
       "       [8.17648530e-01],\n",
       "       [5.75318374e-03],\n",
       "       [1.03331663e-01],\n",
       "       [9.56897020e-01],\n",
       "       [7.22286105e-03],\n",
       "       [9.41436410e-01],\n",
       "       [9.68472362e-01],\n",
       "       [6.49612486e-01],\n",
       "       [9.29800093e-01],\n",
       "       [9.68472362e-01],\n",
       "       [3.65177505e-02],\n",
       "       [2.54949242e-01]], dtype=float32)"
      ]
     },
     "execution_count": 66,
     "metadata": {},
     "output_type": "execute_result"
    }
   ],
   "source": [
    "model.predict(X_test)"
   ]
  },
  {
   "cell_type": "code",
   "execution_count": 67,
   "id": "d717eccd",
   "metadata": {},
   "outputs": [
    {
     "data": {
      "text/plain": [
       "527    1\n",
       "359    1\n",
       "447    0\n",
       "31     1\n",
       "621    0\n",
       "      ..\n",
       "832    1\n",
       "796    1\n",
       "644    1\n",
       "404    0\n",
       "842    0\n",
       "Name: target, Length: 205, dtype: int64"
      ]
     },
     "execution_count": 67,
     "metadata": {},
     "output_type": "execute_result"
    }
   ],
   "source": [
    "y_test"
   ]
  },
  {
   "cell_type": "code",
   "execution_count": 68,
   "id": "aab95355",
   "metadata": {},
   "outputs": [
    {
     "data": {
      "text/plain": [
       "(array([[ 0.15688989],\n",
       "        [-1.345855  ],\n",
       "        [-0.24782217],\n",
       "        [-1.1895176 ],\n",
       "        [-0.30132228],\n",
       "        [ 0.46258244],\n",
       "        [ 2.6813254 ],\n",
       "        [-0.7926838 ],\n",
       "        [-0.60304916],\n",
       "        [ 0.67638546],\n",
       "        [-0.80751455],\n",
       "        [-0.9939978 ],\n",
       "        [ 1.4591132 ],\n",
       "        [ 1.9879893 ],\n",
       "        [ 2.245601  ]], dtype=float32),\n",
       " array([0.5517272], dtype=float32))"
      ]
     },
     "execution_count": 68,
     "metadata": {},
     "output_type": "execute_result"
    }
   ],
   "source": [
    "coef,intercepts = model.get_weights()\n",
    "coef,intercepts"
   ]
  },
  {
   "cell_type": "code",
   "execution_count": null,
   "id": "7faf421f",
   "metadata": {},
   "outputs": [],
   "source": []
  }
 ],
 "metadata": {
  "kernelspec": {
   "display_name": "Python 3 (ipykernel)",
   "language": "python",
   "name": "python3"
  },
  "language_info": {
   "codemirror_mode": {
    "name": "ipython",
    "version": 3
   },
   "file_extension": ".py",
   "mimetype": "text/x-python",
   "name": "python",
   "nbconvert_exporter": "python",
   "pygments_lexer": "ipython3",
   "version": "3.9.7"
  }
 },
 "nbformat": 4,
 "nbformat_minor": 5
}
