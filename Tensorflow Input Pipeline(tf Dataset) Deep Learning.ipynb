{
 "cells": [
  {
   "cell_type": "code",
   "execution_count": 108,
   "id": "cea701a9",
   "metadata": {},
   "outputs": [],
   "source": [
    "import tensorflow as tf"
   ]
  },
  {
   "cell_type": "code",
   "execution_count": 109,
   "id": "bcdc6f58",
   "metadata": {},
   "outputs": [],
   "source": [
    "daily_sales_numbers = [21,22,-108,31,-1,32,34,31]"
   ]
  },
  {
   "cell_type": "code",
   "execution_count": 110,
   "id": "ddc90ea3",
   "metadata": {},
   "outputs": [],
   "source": [
    "tf_dataset = tf.data.Dataset.from_tensor_slices(daily_sales_numbers)"
   ]
  },
  {
   "cell_type": "code",
   "execution_count": 111,
   "id": "161104da",
   "metadata": {},
   "outputs": [
    {
     "data": {
      "text/plain": [
       "<TensorSliceDataset element_spec=TensorSpec(shape=(), dtype=tf.int32, name=None)>"
      ]
     },
     "execution_count": 111,
     "metadata": {},
     "output_type": "execute_result"
    }
   ],
   "source": [
    "tf_dataset"
   ]
  },
  {
   "cell_type": "code",
   "execution_count": 112,
   "id": "696f0ecc",
   "metadata": {},
   "outputs": [
    {
     "name": "stdout",
     "output_type": "stream",
     "text": [
      "tf.Tensor(21, shape=(), dtype=int32)\n",
      "tf.Tensor(22, shape=(), dtype=int32)\n",
      "tf.Tensor(-108, shape=(), dtype=int32)\n",
      "tf.Tensor(31, shape=(), dtype=int32)\n",
      "tf.Tensor(-1, shape=(), dtype=int32)\n",
      "tf.Tensor(32, shape=(), dtype=int32)\n",
      "tf.Tensor(34, shape=(), dtype=int32)\n",
      "tf.Tensor(31, shape=(), dtype=int32)\n"
     ]
    }
   ],
   "source": [
    "for sales in tf_dataset:\n",
    "    print(sales)"
   ]
  },
  {
   "cell_type": "code",
   "execution_count": 113,
   "id": "2013661a",
   "metadata": {},
   "outputs": [
    {
     "name": "stdout",
     "output_type": "stream",
     "text": [
      "21\n",
      "22\n",
      "-108\n",
      "31\n",
      "-1\n",
      "32\n",
      "34\n",
      "31\n"
     ]
    }
   ],
   "source": [
    "for sales in tf_dataset:\n",
    "    print(sales.numpy())"
   ]
  },
  {
   "cell_type": "code",
   "execution_count": 114,
   "id": "d1d127c4",
   "metadata": {},
   "outputs": [
    {
     "name": "stdout",
     "output_type": "stream",
     "text": [
      "21\n",
      "22\n",
      "-108\n",
      "31\n",
      "-1\n",
      "32\n",
      "34\n",
      "31\n"
     ]
    }
   ],
   "source": [
    "for sales in tf_dataset.as_numpy_iterator():\n",
    "    print(sales)"
   ]
  },
  {
   "cell_type": "code",
   "execution_count": 115,
   "id": "de3fd1c9",
   "metadata": {},
   "outputs": [
    {
     "name": "stdout",
     "output_type": "stream",
     "text": [
      "21\n",
      "22\n",
      "-108\n"
     ]
    }
   ],
   "source": [
    "for sales in tf_dataset.take(3):\n",
    "    print(sales.numpy())"
   ]
  },
  {
   "cell_type": "code",
   "execution_count": 116,
   "id": "69114c28",
   "metadata": {},
   "outputs": [],
   "source": [
    "tf_dataset = tf_dataset.filter(lambda x:x>0)"
   ]
  },
  {
   "cell_type": "code",
   "execution_count": 117,
   "id": "f4b241da",
   "metadata": {},
   "outputs": [
    {
     "name": "stdout",
     "output_type": "stream",
     "text": [
      "21\n",
      "22\n",
      "31\n",
      "32\n",
      "34\n",
      "31\n"
     ]
    }
   ],
   "source": [
    "for sales in tf_dataset.as_numpy_iterator():\n",
    "    print(sales)"
   ]
  },
  {
   "cell_type": "code",
   "execution_count": 118,
   "id": "679067bc",
   "metadata": {},
   "outputs": [],
   "source": [
    "tf_dataset = tf_dataset.map(lambda x:x*72)"
   ]
  },
  {
   "cell_type": "code",
   "execution_count": 119,
   "id": "ad629daa",
   "metadata": {},
   "outputs": [
    {
     "name": "stdout",
     "output_type": "stream",
     "text": [
      "1512\n",
      "1584\n",
      "2232\n",
      "2304\n",
      "2448\n",
      "2232\n"
     ]
    }
   ],
   "source": [
    "for sales in tf_dataset.as_numpy_iterator():\n",
    "    print(sales)"
   ]
  },
  {
   "cell_type": "code",
   "execution_count": 120,
   "id": "b51b08d6",
   "metadata": {},
   "outputs": [
    {
     "name": "stdout",
     "output_type": "stream",
     "text": [
      "1512\n",
      "2304\n",
      "2448\n",
      "2232\n",
      "1584\n",
      "2232\n"
     ]
    }
   ],
   "source": [
    "tf_dataset = tf_dataset.shuffle(3)\n",
    "for sales in tf_dataset.as_numpy_iterator():\n",
    "    print(sales)"
   ]
  },
  {
   "cell_type": "code",
   "execution_count": 121,
   "id": "a9d1ee1c",
   "metadata": {},
   "outputs": [
    {
     "name": "stdout",
     "output_type": "stream",
     "text": [
      "[1584 2232 2448 2232]\n",
      "[1512 2304]\n"
     ]
    }
   ],
   "source": [
    "for sales_batch in tf_dataset.batch(4):\n",
    "    print(sales_batch.numpy())"
   ]
  },
  {
   "cell_type": "code",
   "execution_count": 122,
   "id": "155cf0ba",
   "metadata": {},
   "outputs": [
    {
     "data": {
      "text/plain": [
       "<TensorSliceDataset element_spec=TensorSpec(shape=(), dtype=tf.int32, name=None)>"
      ]
     },
     "execution_count": 122,
     "metadata": {},
     "output_type": "execute_result"
    }
   ],
   "source": [
    "tf_dataset = tf.data.Dataset.from_tensor_slices(daily_sales_numbers)\n",
    "tf_dataset"
   ]
  },
  {
   "cell_type": "code",
   "execution_count": 123,
   "id": "de8bc445",
   "metadata": {},
   "outputs": [],
   "source": [
    "tf_dataset = tf_dataset.filter(lambda x:x>0).map(lambda x:x*72).shuffle(3).batch(4)"
   ]
  },
  {
   "cell_type": "code",
   "execution_count": 124,
   "id": "a62fbe5e",
   "metadata": {},
   "outputs": [
    {
     "name": "stdout",
     "output_type": "stream",
     "text": [
      "[1512 2232 2448 2232]\n",
      "[1584 2304]\n"
     ]
    }
   ],
   "source": [
    "for sales in tf_dataset.as_numpy_iterator():\n",
    "    print(sales)"
   ]
  },
  {
   "cell_type": "code",
   "execution_count": 125,
   "id": "a2b45904",
   "metadata": {},
   "outputs": [
    {
     "name": "stdout",
     "output_type": "stream",
     "text": [
      "b'images\\\\cat\\\\1500_ Baby Cat Pictures _ Download Free.jpg'\n",
      "b'images\\\\cat\\\\20_ Cat Pictures & Images [HD (1).jpg'\n",
      "b'images\\\\cat\\\\20_ Cat Pictures & Images [HD (2).jpg'\n",
      "b'images\\\\cat\\\\20_ Cat Pictures & Images [HD (3).jpg'\n",
      "b'images\\\\cat\\\\20_ Cat Pictures & Images [HD.jpg'\n"
     ]
    }
   ],
   "source": [
    "images_ds = tf.data.Dataset.list_files('images/*/*.jpg', shuffle=False)\n",
    "\n",
    "for file in images_ds.take(5):\n",
    "    print(file.numpy())"
   ]
  },
  {
   "cell_type": "code",
   "execution_count": 126,
   "id": "2334e89e",
   "metadata": {},
   "outputs": [
    {
     "name": "stdout",
     "output_type": "stream",
     "text": [
      "b'images\\\\cat\\\\40_000_ Cat Pictures & Images [HD (2).jpg'\n",
      "b'images\\\\cat\\\\20_ Cat Pictures & Images [HD (1).jpg'\n",
      "b'images\\\\cat\\\\40_000_ Cat Pictures & Images [HD.jpg'\n"
     ]
    }
   ],
   "source": [
    "images_ds = images_ds.shuffle(10)\n",
    "\n",
    "for file in images_ds.take(3):\n",
    "    print(file.numpy())"
   ]
  },
  {
   "cell_type": "code",
   "execution_count": 127,
   "id": "43106103",
   "metadata": {},
   "outputs": [],
   "source": [
    "class_names = ['cat','dog']"
   ]
  },
  {
   "cell_type": "code",
   "execution_count": 128,
   "id": "9eedee15",
   "metadata": {},
   "outputs": [
    {
     "data": {
      "text/plain": [
       "63"
      ]
     },
     "execution_count": 128,
     "metadata": {},
     "output_type": "execute_result"
    }
   ],
   "source": [
    "image_count = len(images_ds)\n",
    "image_count"
   ]
  },
  {
   "cell_type": "code",
   "execution_count": 129,
   "id": "2a78b999",
   "metadata": {},
   "outputs": [
    {
     "data": {
      "text/plain": [
       "50"
      ]
     },
     "execution_count": 129,
     "metadata": {},
     "output_type": "execute_result"
    }
   ],
   "source": [
    "train_size = int(image_count * 0.8)\n",
    "train_size"
   ]
  },
  {
   "cell_type": "code",
   "execution_count": 130,
   "id": "eceafb69",
   "metadata": {},
   "outputs": [],
   "source": [
    "train_ds = images_ds.take(train_size)\n",
    "test_ds = images_ds.skip(train_size)"
   ]
  },
  {
   "cell_type": "code",
   "execution_count": 131,
   "id": "c8fe5988",
   "metadata": {},
   "outputs": [
    {
     "name": "stdout",
     "output_type": "stream",
     "text": [
      "50\n",
      "13\n"
     ]
    }
   ],
   "source": [
    "print(len(train_ds))\n",
    "print(len(test_ds))"
   ]
  },
  {
   "cell_type": "code",
   "execution_count": 132,
   "id": "cdb386a3",
   "metadata": {},
   "outputs": [
    {
     "data": {
      "text/plain": [
       "'cat'"
      ]
     },
     "execution_count": 132,
     "metadata": {},
     "output_type": "execute_result"
    }
   ],
   "source": [
    "s = 'images\\\\cat\\\\20_ Cat Pictures & Images [HD.jpg'\n",
    "\n",
    "s.split(\"\\\\\")[1]"
   ]
  },
  {
   "cell_type": "code",
   "execution_count": 133,
   "id": "d86ef95d",
   "metadata": {},
   "outputs": [],
   "source": [
    "def get_label(file_path):\n",
    "    import os\n",
    "    return tf.strings.split(file_path,os.path.sep)[1]"
   ]
  },
  {
   "cell_type": "code",
   "execution_count": 134,
   "id": "e3ddd0f7",
   "metadata": {},
   "outputs": [],
   "source": [
    "def process_image(file_path):\n",
    "    label = get_label(file_path)\n",
    "    \n",
    "    img = tf.io.read_file(file_path)\n",
    "    img = tf.image.decode_jpeg(img)\n",
    "    img = tf.image.resize(img,[128,128])\n",
    "    \n",
    "    return img,label"
   ]
  },
  {
   "cell_type": "code",
   "execution_count": 135,
   "id": "8c10c149",
   "metadata": {},
   "outputs": [
    {
     "name": "stdout",
     "output_type": "stream",
     "text": [
      "b'images\\\\cat\\\\20_ Cat Pictures & Images [HD (2).jpg'\n",
      "b'images\\\\cat\\\\40_000_ Cat Pictures & Images [HD.jpg'\n",
      "b'images\\\\cat\\\\20_ Cat Pictures & Images [HD (3).jpg'\n",
      "b'images\\\\cat\\\\1500_ Baby Cat Pictures _ Download Free.jpg'\n"
     ]
    }
   ],
   "source": [
    "for t in train_ds.take(4):\n",
    "    print(t.numpy())"
   ]
  },
  {
   "cell_type": "code",
   "execution_count": 136,
   "id": "903fa392",
   "metadata": {},
   "outputs": [
    {
     "name": "stdout",
     "output_type": "stream",
     "text": [
      "Image :  tf.Tensor(\n",
      "[[[254.      254.      254.     ]\n",
      "  [254.      254.      254.     ]\n",
      "  [254.      254.      254.     ]\n",
      "  ...\n",
      "  [254.      254.      254.     ]\n",
      "  [254.      254.      254.     ]\n",
      "  [254.      254.      254.     ]]\n",
      "\n",
      " [[254.      254.      254.     ]\n",
      "  [254.      254.      254.     ]\n",
      "  [254.      254.      254.     ]\n",
      "  ...\n",
      "  [254.      254.      254.     ]\n",
      "  [254.      254.      254.     ]\n",
      "  [254.      254.      254.     ]]\n",
      "\n",
      " [[254.      254.      254.     ]\n",
      "  [254.      254.      254.     ]\n",
      "  [254.      254.      254.     ]\n",
      "  ...\n",
      "  [254.      254.      254.     ]\n",
      "  [254.      254.      254.     ]\n",
      "  [254.      254.      254.     ]]\n",
      "\n",
      " ...\n",
      "\n",
      " [[162.26721 162.26721 162.26721]\n",
      "  [156.65625 156.65625 156.65625]\n",
      "  [155.5567  155.5567  155.5567 ]\n",
      "  ...\n",
      "  [135.11578 135.11578 135.11578]\n",
      "  [144.63757 144.63757 144.63757]\n",
      "  [149.16449 149.16449 149.16449]]\n",
      "\n",
      " [[164.72986 164.72986 164.72986]\n",
      "  [162.52655 162.52655 162.52655]\n",
      "  [161.33636 161.33636 161.33636]\n",
      "  ...\n",
      "  [136.95654 136.95654 136.95654]\n",
      "  [132.08777 132.08777 132.08777]\n",
      "  [140.0769  140.0769  140.0769 ]]\n",
      "\n",
      " [[160.86108 160.86108 160.86108]\n",
      "  [151.24384 151.24384 151.24384]\n",
      "  [160.13281 160.13281 160.13281]\n",
      "  ...\n",
      "  [146.25507 146.25507 146.25507]\n",
      "  [139.46179 139.46179 139.46179]\n",
      "  [141.01508 141.01508 141.01508]]], shape=(128, 128, 3), dtype=float32)\n",
      "Label :  tf.Tensor(b'cat', shape=(), dtype=string)\n",
      "Image :  tf.Tensor(\n",
      "[[[ 21.842346    35.754578     8.699402  ]\n",
      "  [ 23.655396    21.293701    10.625671  ]\n",
      "  [ 31.081055    41.14746      0.        ]\n",
      "  ...\n",
      "  [143.34247    152.34247     34.584656  ]\n",
      "  [151.40234    158.45703     44.375     ]\n",
      "  [159.0362     163.0362      52.036194  ]]\n",
      "\n",
      " [[146.03662    159.69519    110.11792   ]\n",
      "  [101.89386    102.79553     65.13898   ]\n",
      "  [ 54.338013    54.341858    40.533264  ]\n",
      "  ...\n",
      "  [147.10547    156.10547     39.10547   ]\n",
      "  [158.38824    165.44293     51.38739   ]\n",
      "  [164.94452    168.94452     58.428894  ]]\n",
      "\n",
      " [[ 58.48163     70.710815    14.520752  ]\n",
      "  [ 11.401306    11.647522     0.        ]\n",
      "  [ 48.038574    44.97107     33.25836   ]\n",
      "  ...\n",
      "  [153.95563    162.95563     47.955627  ]\n",
      "  [162.0586     169.11328     57.03125   ]\n",
      "  [171.46484    175.46484     65.46484   ]]\n",
      "\n",
      " ...\n",
      "\n",
      " [[ 14.63446     29.63446      0.18237305]\n",
      "  [ 38.098267    55.961487     3.2854004 ]\n",
      "  [ 55.3089      75.960144     7.8898315 ]\n",
      "  ...\n",
      "  [ 79.09125     92.09125      4.0912476 ]\n",
      "  [ 86.22656     99.22656      8.953003  ]\n",
      "  [ 91.60547    105.60547     10.605469  ]]\n",
      "\n",
      " [[ 57.18396     76.05505     16.0979    ]\n",
      "  [ 30.14386     40.589172     0.3922119 ]\n",
      "  [ 51.547974    73.411255     4.5862427 ]\n",
      "  ...\n",
      "  [ 76.21094     86.66406      2.2109375 ]\n",
      "  [ 82.95941     94.41254      4.982849  ]\n",
      "  [ 85.32422     97.77734      4.3242188 ]]\n",
      "\n",
      " [[ 61.65857     83.631226    12.791382  ]\n",
      "  [ 57.671753    60.781128    13.676453  ]\n",
      "  [ 79.06641    100.203125    33.79297   ]\n",
      "  ...\n",
      "  [ 73.07031     82.07031      0.        ]\n",
      "  [ 80.80078     90.80078      1.8007812 ]\n",
      "  [ 82.42084     93.42084      1.4208374 ]]], shape=(128, 128, 3), dtype=float32)\n",
      "Label :  tf.Tensor(b'cat', shape=(), dtype=string)\n",
      "Image :  tf.Tensor(\n",
      "[[[195.55078   206.55078   200.55078  ]\n",
      "  [187.21452   198.21452   190.21452  ]\n",
      "  [179.01509   190.82031   181.9375   ]\n",
      "  ...\n",
      "  [ 53.         84.         86.       ]\n",
      "  [ 50.383133   81.38313    83.38313  ]\n",
      "  [ 46.738388   77.99588    80.91005  ]]\n",
      "\n",
      " [[184.13281   197.13281   188.61655  ]\n",
      "  [175.71484   188.71484   179.71484  ]\n",
      "  [167.07973   180.07973   170.63832  ]\n",
      "  ...\n",
      "  [ 54.         85.         87.       ]\n",
      "  [ 50.71779    81.71779    83.71779  ]\n",
      "  [ 47.73015    78.73015    81.73015  ]]\n",
      "\n",
      " [[171.41797   184.41797   177.41797  ]\n",
      "  [163.        176.        169.       ]\n",
      "  [152.56126   168.49362   158.69655  ]\n",
      "  ...\n",
      "  [ 55.05345    86.05345    89.05345  ]\n",
      "  [ 51.464844   82.46484    85.46484  ]\n",
      "  [ 48.43199    79.609375   82.55025  ]]\n",
      "\n",
      " ...\n",
      "\n",
      " [[104.67134   133.67134   137.67134  ]\n",
      "  [106.46484   135.46484   139.46484  ]\n",
      "  [102.612045  133.61205   136.61205  ]\n",
      "  ...\n",
      "  [  0.          9.946548    6.106903 ]\n",
      "  [  0.          8.          5.       ]\n",
      "  [  0.          7.          4.       ]]\n",
      "\n",
      " [[102.        133.        136.       ]\n",
      "  [102.9375    131.9375    135.9375   ]\n",
      "  [102.        133.        136.       ]\n",
      "  ...\n",
      "  [  0.          9.441406    5.4414062]\n",
      "  [  0.          8.          5.       ]\n",
      "  [  0.          7.4882812   5.5429688]]\n",
      "\n",
      " [[101.51172   130.51172   134.51172  ]\n",
      "  [ 99.28906   128.28906   132.28906  ]\n",
      "  [100.265625  129.82422   132.70703  ]\n",
      "  ...\n",
      "  [  0.          7.6361847   6.6361847]\n",
      "  [  0.          8.081711    7.081711 ]\n",
      "  [  0.          7.4882812   4.4882812]]], shape=(128, 128, 3), dtype=float32)\n",
      "Label :  tf.Tensor(b'cat', shape=(), dtype=string)\n"
     ]
    }
   ],
   "source": [
    "train_ds = train_ds.map(process_image)\n",
    "for img,label in train_ds.take(3):\n",
    "    print(\"Image : \", img)\n",
    "    print(\"Label : \",label)"
   ]
  },
  {
   "cell_type": "code",
   "execution_count": 137,
   "id": "c513345b",
   "metadata": {},
   "outputs": [],
   "source": [
    "def scale(image,label):\n",
    "    return image/255,label"
   ]
  },
  {
   "cell_type": "code",
   "execution_count": 139,
   "id": "5e8b253b",
   "metadata": {},
   "outputs": [
    {
     "name": "stdout",
     "output_type": "stream",
     "text": [
      "*****Image :  [0.34788144 0.39149356 0.35365653]\n",
      "*****Label :  b'cat'\n",
      "*****Image :  [0.99607843 0.99607843 0.99607843]\n",
      "*****Label :  b'cat'\n",
      "*****Image :  [0.02598709 0.04951651 0.03383023]\n",
      "*****Label :  b'cat'\n",
      "*****Image :  [0.77254903 0.7254902  0.6784314 ]\n",
      "*****Label :  b'cat'\n",
      "*****Image :  [0.07450981 0.0627451  0.04313726]\n",
      "*****Label :  b'cat'\n"
     ]
    }
   ],
   "source": [
    "train_ds = train_ds.map(scale)\n",
    "for image,label in train_ds.take(5):\n",
    "    print(\"*****Image : \",image.numpy()[0][0])\n",
    "    print(\"*****Label : \",label.numpy())"
   ]
  },
  {
   "cell_type": "code",
   "execution_count": null,
   "id": "68cb8f69",
   "metadata": {},
   "outputs": [],
   "source": [
    "  "
   ]
  }
 ],
 "metadata": {
  "kernelspec": {
   "display_name": "Python 3 (ipykernel)",
   "language": "python",
   "name": "python3"
  },
  "language_info": {
   "codemirror_mode": {
    "name": "ipython",
    "version": 3
   },
   "file_extension": ".py",
   "mimetype": "text/x-python",
   "name": "python",
   "nbconvert_exporter": "python",
   "pygments_lexer": "ipython3",
   "version": "3.9.7"
  }
 },
 "nbformat": 4,
 "nbformat_minor": 5
}
